{
 "cells": [
  {
   "cell_type": "markdown",
   "metadata": {},
   "source": [
    "# Datasets Portal da Transparência da Mobilidade Urbana de Natal/RN\n",
    "\n",
    "**Bilhetagem Eletrônica**\n",
    "\n",
    "**Custos Operacionais**\n",
    "\n",
    "**Itinerários**\n",
    "\n",
    "**Horários Programados**\n",
    "\n",
    "**Linhas**\n",
    "\n",
    "**Paradas**\n",
    "\n",
    "**Rotas**\n",
    "\n",
    "-   Cidade do Natal\n",
    "-   Conceição\n",
    "-   Guanabara\n",
    "-   Reunidas\n",
    "-   Santa Maria\n",
    "-   Via Sul"
   ]
  },
  {
   "cell_type": "code",
   "execution_count": 3,
   "metadata": {},
   "outputs": [],
   "source": [
    "import pandas as pd"
   ]
  },
  {
   "cell_type": "markdown",
   "metadata": {},
   "source": [
    "## Dataset Bilhetagem Eletrônica\n",
    "\n",
    "http://dados.natal.br/dataset/bilhetagem-eletronica\n",
    "\n",
    "Dados BE 2018 - Analitico\n",
    "http://dados.natal.br/dataset/4fad551d-4d3b-4597-b8d3-7e887e22332e/resource/ec5b95a3-7b93-4346-98f6-1bd013faa651/download/dados-be-2018-analitico.csv\n",
    "\n",
    "Dados BE 2019 - Analitico\n",
    "http://dados.natal.br/dataset/4fad551d-4d3b-4597-b8d3-7e887e22332e/resource/0d4a0f0f-b8a5-46a0-acfe-bb9138c8eb9e/download/dados-be-2019-analitico.csv\n"
   ]
  },
  {
   "cell_type": "markdown",
   "metadata": {},
   "source": [
    "## Download do arquivo csv\n",
    "Vamos baixar o arquivo de 2018 com o comando wget\n",
    "comando abaixo esta comentando em função do Windows 10 não possuir o comando."
   ]
  },
  {
   "cell_type": "code",
   "execution_count": 5,
   "metadata": {},
   "outputs": [],
   "source": [
    "#wget -c http://dados.natal.br/dataset/4fad551d-4d3b-4597-b8d3-7e887e22332e/resource/ec5b95a3-7b93-4346-98f6-1bd013faa651/download/dados-be-2018-analitico.csv"
   ]
  },
  {
   "cell_type": "markdown",
   "metadata": {},
   "source": [
    "Verificar o arquivo baixado com o comando\n",
    "*ls -lah dados-be**"
   ]
  },
  {
   "cell_type": "code",
   "execution_count": null,
   "metadata": {},
   "outputs": [],
   "source": [
    "#ls -lah dados-be*"
   ]
  },
  {
   "cell_type": "markdown",
   "metadata": {},
   "source": [
    "## Carregar o arquivo CSV"
   ]
  },
  {
   "cell_type": "code",
   "execution_count": 6,
   "metadata": {},
   "outputs": [],
   "source": [
    "df = pd.read_csv(\"data\\dados-be-2018-analitico.csv\", encoding='iso-8859-1', sep=';', thousands=r'.')"
   ]
  },
  {
   "cell_type": "markdown",
   "metadata": {},
   "source": [
    "Checar se o arquivo foi carregado exibindo os primeiros registros"
   ]
  },
  {
   "cell_type": "code",
   "execution_count": 7,
   "metadata": {},
   "outputs": [
    {
     "data": {
      "text/html": [
       "<div>\n",
       "<style scoped>\n",
       "    .dataframe tbody tr th:only-of-type {\n",
       "        vertical-align: middle;\n",
       "    }\n",
       "\n",
       "    .dataframe tbody tr th {\n",
       "        vertical-align: top;\n",
       "    }\n",
       "\n",
       "    .dataframe thead th {\n",
       "        text-align: right;\n",
       "    }\n",
       "</style>\n",
       "<table border=\"1\" class=\"dataframe\">\n",
       "  <thead>\n",
       "    <tr style=\"text-align: right;\">\n",
       "      <th></th>\n",
       "      <th>Mês</th>\n",
       "      <th>Empresa</th>\n",
       "      <th>Linha</th>\n",
       "      <th>Estudante_Cartao</th>\n",
       "      <th>Estudante_BT</th>\n",
       "      <th>Vale_Transporte</th>\n",
       "      <th>Integracao_Plena</th>\n",
       "      <th>Integracao_Complementar</th>\n",
       "      <th>Gratuito_Cartao</th>\n",
       "      <th>Gratuito_BT</th>\n",
       "      <th>Inteira_Cartao</th>\n",
       "      <th>Inteira_Especie</th>\n",
       "      <th>Tarifa_Social</th>\n",
       "      <th>Qtd_Viagens</th>\n",
       "    </tr>\n",
       "  </thead>\n",
       "  <tbody>\n",
       "    <tr>\n",
       "      <th>0</th>\n",
       "      <td>1</td>\n",
       "      <td>CONCEIÇÃO</td>\n",
       "      <td>21</td>\n",
       "      <td>13493</td>\n",
       "      <td>9506</td>\n",
       "      <td>35944</td>\n",
       "      <td>8671</td>\n",
       "      <td>0</td>\n",
       "      <td>17138</td>\n",
       "      <td>7397</td>\n",
       "      <td>6542</td>\n",
       "      <td>43727</td>\n",
       "      <td>3965</td>\n",
       "      <td>3684</td>\n",
       "    </tr>\n",
       "    <tr>\n",
       "      <th>1</th>\n",
       "      <td>1</td>\n",
       "      <td>CONCEIÇÃO</td>\n",
       "      <td>22</td>\n",
       "      <td>4644</td>\n",
       "      <td>3371</td>\n",
       "      <td>13088</td>\n",
       "      <td>3230</td>\n",
       "      <td>0</td>\n",
       "      <td>8109</td>\n",
       "      <td>3157</td>\n",
       "      <td>2529</td>\n",
       "      <td>15363</td>\n",
       "      <td>0</td>\n",
       "      <td>1737</td>\n",
       "    </tr>\n",
       "    <tr>\n",
       "      <th>2</th>\n",
       "      <td>1</td>\n",
       "      <td>CONCEIÇÃO</td>\n",
       "      <td>30</td>\n",
       "      <td>8519</td>\n",
       "      <td>5614</td>\n",
       "      <td>20580</td>\n",
       "      <td>5346</td>\n",
       "      <td>0</td>\n",
       "      <td>7265</td>\n",
       "      <td>3191</td>\n",
       "      <td>4415</td>\n",
       "      <td>21507</td>\n",
       "      <td>1537</td>\n",
       "      <td>2500</td>\n",
       "    </tr>\n",
       "    <tr>\n",
       "      <th>3</th>\n",
       "      <td>1</td>\n",
       "      <td>CONCEIÇÃO</td>\n",
       "      <td>31</td>\n",
       "      <td>9631</td>\n",
       "      <td>6020</td>\n",
       "      <td>23460</td>\n",
       "      <td>7587</td>\n",
       "      <td>0</td>\n",
       "      <td>7065</td>\n",
       "      <td>2922</td>\n",
       "      <td>5491</td>\n",
       "      <td>22212</td>\n",
       "      <td>140</td>\n",
       "      <td>2478</td>\n",
       "    </tr>\n",
       "    <tr>\n",
       "      <th>4</th>\n",
       "      <td>1</td>\n",
       "      <td>CONCEIÇÃO</td>\n",
       "      <td>41</td>\n",
       "      <td>6556</td>\n",
       "      <td>4038</td>\n",
       "      <td>20388</td>\n",
       "      <td>7924</td>\n",
       "      <td>0</td>\n",
       "      <td>5704</td>\n",
       "      <td>2791</td>\n",
       "      <td>3883</td>\n",
       "      <td>13870</td>\n",
       "      <td>0</td>\n",
       "      <td>2296</td>\n",
       "    </tr>\n",
       "  </tbody>\n",
       "</table>\n",
       "</div>"
      ],
      "text/plain": [
       "   Mês    Empresa  Linha  Estudante_Cartao  Estudante_BT  Vale_Transporte  \\\n",
       "0    1  CONCEIÇÃO     21             13493          9506            35944   \n",
       "1    1  CONCEIÇÃO     22              4644          3371            13088   \n",
       "2    1  CONCEIÇÃO     30              8519          5614            20580   \n",
       "3    1  CONCEIÇÃO     31              9631          6020            23460   \n",
       "4    1  CONCEIÇÃO     41              6556          4038            20388   \n",
       "\n",
       "   Integracao_Plena  Integracao_Complementar  Gratuito_Cartao  Gratuito_BT  \\\n",
       "0              8671                        0            17138         7397   \n",
       "1              3230                        0             8109         3157   \n",
       "2              5346                        0             7265         3191   \n",
       "3              7587                        0             7065         2922   \n",
       "4              7924                        0             5704         2791   \n",
       "\n",
       "   Inteira_Cartao  Inteira_Especie  Tarifa_Social  Qtd_Viagens  \n",
       "0            6542            43727           3965         3684  \n",
       "1            2529            15363              0         1737  \n",
       "2            4415            21507           1537         2500  \n",
       "3            5491            22212            140         2478  \n",
       "4            3883            13870              0         2296  "
      ]
     },
     "execution_count": 7,
     "metadata": {},
     "output_type": "execute_result"
    }
   ],
   "source": [
    "df.head()"
   ]
  },
  {
   "cell_type": "code",
   "execution_count": null,
   "metadata": {},
   "outputs": [],
   "source": []
  }
 ],
 "metadata": {
  "kernelspec": {
   "display_name": "Python 3",
   "language": "python",
   "name": "python3"
  }
 },
 "nbformat": 4,
 "nbformat_minor": 2
}
