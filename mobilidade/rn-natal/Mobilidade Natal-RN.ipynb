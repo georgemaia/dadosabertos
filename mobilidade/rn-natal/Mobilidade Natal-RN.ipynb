{
 "cells": [
  {
   "cell_type": "markdown",
   "metadata": {},
   "source": [
    "# Datasets Portal da Transparência da Mobilidade Urbana de Natal/RN\n",
    "\n",
    "**Bilhetagem Eletrônica**\n",
    "\n",
    "**Custos Operacionais**\n",
    "\n",
    "**Itinerários**\n",
    "\n",
    "**Horários Programados**\n",
    "\n",
    "**Linhas**\n",
    "\n",
    "**Paradas**\n",
    "\n",
    "**Rotas**\n",
    "\n",
    "-   Cidade do Natal\n",
    "-   Conceição\n",
    "-   Guanabara\n",
    "-   Reunidas\n",
    "-   Santa Maria\n",
    "-   Via Sul"
   ]
  },
  {
   "cell_type": "code",
   "execution_count": null,
   "metadata": {},
   "outputs": [],
   "source": []
  },
  {
   "cell_type": "code",
   "execution_count": null,
   "metadata": {},
   "outputs": [],
   "source": []
  }
 ],
 "metadata": {
  "kernelspec": {
   "display_name": "Python 3",
   "language": "python",
   "name": "python3"
  },
  "language_info": {
   "codemirror_mode": {
    "name": "ipython",
    "version": 3
   },
   "file_extension": ".py",
   "mimetype": "text/x-python",
   "name": "python",
   "nbconvert_exporter": "python",
   "pygments_lexer": "ipython3",
   "version": "3.7.3"
  }
 },
 "nbformat": 4,
 "nbformat_minor": 2
}
